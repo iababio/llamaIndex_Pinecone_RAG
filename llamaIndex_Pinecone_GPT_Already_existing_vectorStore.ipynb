{
  "nbformat": 4,
  "nbformat_minor": 0,
  "metadata": {
    "colab": {
      "provenance": []
    },
    "kernelspec": {
      "name": "python3",
      "display_name": "Python 3"
    },
    "language_info": {
      "name": "python"
    }
  },
  "cells": [
    {
      "cell_type": "code",
      "execution_count": null,
      "metadata": {
        "colab": {
          "base_uri": "https://localhost:8080/"
        },
        "id": "4sKoZYHmWbo2",
        "outputId": "80894ad0-65d3-44a5-b4ca-9b46e842d92b"
      },
      "outputs": [
        {
          "output_type": "stream",
          "name": "stdout",
          "text": [
            "  Preparing metadata (setup.py) ... \u001b[?25l\u001b[?25hdone\n",
            "\u001b[2K   \u001b[90m━━━━━━━━━━━━━━━━━━━━━━━━━━━━━━━━━━━━━━━━\u001b[0m \u001b[32m15.8/15.8 MB\u001b[0m \u001b[31m39.6 MB/s\u001b[0m eta \u001b[36m0:00:00\u001b[0m\n",
            "\u001b[2K   \u001b[90m━━━━━━━━━━━━━━━━━━━━━━━━━━━━━━━━━━━━━━━━\u001b[0m \u001b[32m199.9/199.9 kB\u001b[0m \u001b[31m10.5 MB/s\u001b[0m eta \u001b[36m0:00:00\u001b[0m\n",
            "\u001b[2K   \u001b[90m━━━━━━━━━━━━━━━━━━━━━━━━━━━━━━━━━━━━━━━━\u001b[0m \u001b[32m81.1/81.1 kB\u001b[0m \u001b[31m3.7 MB/s\u001b[0m eta \u001b[36m0:00:00\u001b[0m\n",
            "\u001b[2K   \u001b[90m━━━━━━━━━━━━━━━━━━━━━━━━━━━━━━━━━━━━━━━━\u001b[0m \u001b[32m1.3/1.3 MB\u001b[0m \u001b[31m28.1 MB/s\u001b[0m eta \u001b[36m0:00:00\u001b[0m\n",
            "\u001b[2K   \u001b[90m━━━━━━━━━━━━━━━━━━━━━━━━━━━━━━━━━━━━━━━━\u001b[0m \u001b[32m337.0/337.0 kB\u001b[0m \u001b[31m15.5 MB/s\u001b[0m eta \u001b[36m0:00:00\u001b[0m\n",
            "\u001b[2K   \u001b[90m━━━━━━━━━━━━━━━━━━━━━━━━━━━━━━━━━━━━━━━━\u001b[0m \u001b[32m75.6/75.6 kB\u001b[0m \u001b[31m4.1 MB/s\u001b[0m eta \u001b[36m0:00:00\u001b[0m\n",
            "\u001b[2K   \u001b[90m━━━━━━━━━━━━━━━━━━━━━━━━━━━━━━━━━━━━━━━━\u001b[0m \u001b[32m77.9/77.9 kB\u001b[0m \u001b[31m3.6 MB/s\u001b[0m eta \u001b[36m0:00:00\u001b[0m\n",
            "\u001b[2K   \u001b[90m━━━━━━━━━━━━━━━━━━━━━━━━━━━━━━━━━━━━━━━━\u001b[0m \u001b[32m1.1/1.1 MB\u001b[0m \u001b[31m28.2 MB/s\u001b[0m eta \u001b[36m0:00:00\u001b[0m\n",
            "\u001b[2K   \u001b[90m━━━━━━━━━━━━━━━━━━━━━━━━━━━━━━━━━━━━━━━━\u001b[0m \u001b[32m49.2/49.2 kB\u001b[0m \u001b[31m2.9 MB/s\u001b[0m eta \u001b[36m0:00:00\u001b[0m\n",
            "\u001b[2K   \u001b[90m━━━━━━━━━━━━━━━━━━━━━━━━━━━━━━━━━━━━━━━━\u001b[0m \u001b[32m58.3/58.3 kB\u001b[0m \u001b[31m3.2 MB/s\u001b[0m eta \u001b[36m0:00:00\u001b[0m\n",
            "\u001b[?25h  Building wheel for sgmllib3k (setup.py) ... \u001b[?25l\u001b[?25hdone\n"
          ]
        }
      ],
      "source": [
        "!pip install -qU \\\n",
        "    llama-index==0.9.34 \\\n",
        "    \"pinecone-client[grpc]\"==3.0.0 \\\n",
        "    arxiv==2.1.0"
      ]
    },
    {
      "cell_type": "code",
      "source": [
        "import os\n",
        "from getpass import getpass\n",
        "\n",
        "pinecone_api_key = os.getenv(\"PINECONE_API_KEY\") or getpass(\"Enter your Pinecone API Key: \")\n",
        "openai_api_key = os.getenv(\"OPENAI_API_KEY\") or getpass(\"Enter your OpenAI API Key: \")\n"
      ],
      "metadata": {
        "colab": {
          "base_uri": "https://localhost:8080/"
        },
        "id": "wv_UQzCFWhfi",
        "outputId": "4733b5bd-0fca-4933-91ed-57f4063d53a7"
      },
      "execution_count": null,
      "outputs": [
        {
          "name": "stdout",
          "output_type": "stream",
          "text": [
            "Enter your Pinecone API Key: ··········\n",
            "Enter your OpenAI API Key: ··········\n"
          ]
        }
      ]
    },
    {
      "cell_type": "code",
      "source": [
        "from llama_index.node_parser import SemanticSplitterNodeParser\n",
        "from llama_index.embeddings import OpenAIEmbedding\n",
        "from llama_index.ingestion import IngestionPipeline\n",
        "\n",
        "# This will be the model we use both for Node parsing and for vectorization\n",
        "embed_model = OpenAIEmbedding(api_key=openai_api_key)\n",
        "\n",
        "# Define the initial pipeline\n",
        "pipeline = IngestionPipeline(\n",
        "    transformations=[\n",
        "        SemanticSplitterNodeParser(\n",
        "            buffer_size=1,\n",
        "            breakpoint_percentile_threshold=95,\n",
        "            embed_model=embed_model,\n",
        "            ),\n",
        "        embed_model,\n",
        "        ],\n",
        "    )\n"
      ],
      "metadata": {
        "id": "GQ0mzcVLXF3R"
      },
      "execution_count": null,
      "outputs": []
    },
    {
      "cell_type": "code",
      "source": [
        "from pinecone.grpc import PineconeGRPC\n",
        "from pinecone import ServerlessSpec\n",
        "\n",
        "from llama_index.vector_stores import PineconeVectorStore\n",
        "\n",
        "# Initialize connection to Pinecone\n",
        "pc = PineconeGRPC(api_key=pinecone_api_key)\n",
        "index_name = \"anualreport\"\n",
        "\n",
        "# Initialize your index\n",
        "pinecone_index = pc.Index(index_name)\n",
        "\n",
        "# Initialize VectorStore\n",
        "vector_store = PineconeVectorStore(pinecone_index=pinecone_index)"
      ],
      "metadata": {
        "id": "VwQJSPbQXJBE"
      },
      "execution_count": null,
      "outputs": []
    },
    {
      "cell_type": "code",
      "source": [
        "pinecone_index.describe_index_stats()"
      ],
      "metadata": {
        "colab": {
          "base_uri": "https://localhost:8080/"
        },
        "id": "FFYqO46TXmIR",
        "outputId": "036d8b94-914c-4f84-cd20-dc5c22b7b1c1"
      },
      "execution_count": null,
      "outputs": [
        {
          "output_type": "execute_result",
          "data": {
            "text/plain": [
              "{'dimension': 1536,\n",
              " 'index_fullness': 0.0,\n",
              " 'namespaces': {'': {'vector_count': 32483}},\n",
              " 'total_vector_count': 32483}"
            ]
          },
          "metadata": {},
          "execution_count": 5
        }
      ]
    },
    {
      "cell_type": "code",
      "source": [
        "from llama_index import VectorStoreIndex\n",
        "from llama_index.retrievers import VectorIndexRetriever\n",
        "\n",
        "# Due to how LlamaIndex works here, if your Open AI API key was\n",
        "# not set to an environment variable before, you have to set it at this point\n",
        "if not os.getenv('OPENAI_API_KEY'):\n",
        "    os.environ['OPENAI_API_KEY'] = openai_api_key\n",
        "\n",
        "# Instantiate VectorStoreIndex object from our vector_store object\n",
        "vector_index = VectorStoreIndex.from_vector_store(vector_store=vector_store)\n",
        "\n",
        "# Grab 5 search results\n",
        "retriever = VectorIndexRetriever(index=vector_index, similarity_top_k=5)\n",
        "\n",
        "# # Query vector DB\n",
        "answer = retriever.retrieve('Summery of the Anual Report?')\n",
        "\n",
        "# # Inspect results\n",
        "print([i.get_content() for i in answer])"
      ],
      "metadata": {
        "colab": {
          "base_uri": "https://localhost:8080/"
        },
        "id": "BUpAn-1DXppQ",
        "outputId": "3eae3a61-4801-4bb0-df5a-470b9c4be411"
      },
      "execution_count": null,
      "outputs": [
        {
          "output_type": "stream",
          "name": "stdout",
          "text": [
            "[\"IanasANNUAL REPORT 2014-2015Directors' Report to the Shareholdersfor the year ended 30th June 2015Dear Shareholders,As-salamo Alaikum.I feel much privileged to welcome you on behalf of the Board of Directors and myself to this 35thAnnual General Meetingand in presenting you the Annual Report and the Audited Financial Statements of the companyfor the year ended 30thJune, 2015.Operations ReviewThe year under report had also been eventful & much talked about because of the present globaland local economicrecession in terms of commodity price hike. The rise on consumer prices emerged mainly throughexternal trade channels,with the growing exports of consumer necessities pulling their domestic prices to higher exportprices; rising import prices offuel oil, food items, other consumer items and production inputs feeding promptly and fully intodomestic prices, except forpartial shielding by the government in some fuel oil and fertilizer prices.When the challenges of globalization have created dilema to all businesses and when tariffprotection is minuimal and flowof goods is free from all barriers yet, the reporting financial year could be termed as anothersuccessful year for thecompany as the major brands demonstrated a considerable volume in terms of production and\", \"banANNUAL REPORT 2013-2014Directors' Report to the Shareholdersfor the year ended 30th June 2014Dear Shareholders,As-salamo Alaikum.I feel much privileged to welcome you on behalf of the Board of Directors and myself to this ThirtyFour Annual GeneralMeeting and in presenting you the Annual Report and the Audited Financial Statements of thecompany for the year ended30th June, 2014.Operations ReviewThe reporting year had also been eventful & much talked about because of the present globaland local economic recessionin terms of commodity price hike. The rise on consumer prices emerged mainly through externaltrade channels, with thegrowing exports of consumer necessities pulling their domestic prices to higher export prices;rising import prices of fuel oil,food items, other consumer items and production inputs feeding promptly and fully into domesticprices, except for partialshielding by the government in some fuel oil and fertilizer prices.In such a scenario and time when the challenges of globalization have created dilema to allbusinesses and when tariffprotection is minuimal and flow of goods is free from all barriers yet, the reporting financial yearcould be termed as anothersuccessful year for the company as the major brands demonstrated a considerable volume interms of production and\", \"The status report required to be presented by the company in pursuance to notificationNo.SEC/CIVIRRCD /2006-158/Admin/02-08 of February 20, 2006 issued by the Securities andExchangeCommission is furnished in the Annexture-1.ConclusionFinanily, 1, on behalf of the Board of Directors, would like to express my sincere appreciation andgratitudeto our shareholders, employees, customers, agents suppliers and well-wishers for their untiringeffort,and support to the company.On behalf of the BoardMd. Mozammel HaqueManaging Director10 November, 201213bangasANNUAL REPORT 2011-2012\\\\50 cat lekiT 7r,544 ;q^- wffjsft^ 7t^ W,-5N^^ 'Doc-f tii \", 'The status report required to be presented by the company in pursuance to notificationNo.SEC/CMRRCD /2006-158/134/Admin/44 dated of August 07, 2012 issued by the Securities andExchange Commission is furnished in the Annexture-l.ConclusionFinanily, I, on behalf of the Board of Directors, would like to express my sincere appreciation andgratitudeto our shareholders, employees, customers, agents suppliers and well-wishers for their untiringeffort,and support to the company.On behalf of the BoardMd. Mozammel HaqueManaging Director24 November, 2015IbanasANNUAL REPORT 2014-2015\"D o cat tt UfiInf i1*t It 9iw ', 'The challenges this year were from different heads-operational, regulatory and above all from an uneven competitive platform. But your Company ended an undaunted voyage and brought you good result for the year together with value heightening for the stakeholders. A review of this report would reveal consolidation of growth of the Company amid a very challenging environment that ultimately leads the Company towards sustainability. Moreover, the Directors are pleased to explain and disclose some issues what they consider relevant to ensure transparency as well as good governance practices. Accordingly, the Board of the Directors also believes that report will provide captivating insights of the Company’s performance during the year under review. This is a humble presentation for consideration and endorsement of our valued Shareholders.']\n"
          ]
        }
      ]
    },
    {
      "cell_type": "code",
      "source": [
        "from llama_index.query_engine import RetrieverQueryEngine\n",
        "\n",
        "# Pass in your retriever from above, which is configured to return the top 5 results\n",
        "query_engine = RetrieverQueryEngine(retriever=retriever)\n",
        "\n",
        "# Now you query:\n",
        "llm_query = query_engine.query('Summery of the Anual Report?')\n",
        "\n",
        "llm_query.response\n"
      ],
      "metadata": {
        "id": "N0sGHmKYXvgI",
        "outputId": "ab00fa9c-60e4-480d-fea8-1e46f92662cd",
        "colab": {
          "base_uri": "https://localhost:8080/",
          "height": 87
        }
      },
      "execution_count": null,
      "outputs": [
        {
          "output_type": "execute_result",
          "data": {
            "text/plain": [
              "\"The annual reports highlighted the company's performance during the respective years, emphasizing challenges faced, operational reviews, financial statements, and expressions of gratitude to shareholders, employees, customers, and other stakeholders. The reports also mentioned the impact of global and local economic conditions, commodity price hikes, and the company's efforts to navigate through these challenges while maintaining production volumes and demonstrating growth. Additionally, the reports included required status reports as per regulatory notifications and concluded with expressions of appreciation from the Board of Directors to all stakeholders for their support and contributions to the company's success.\""
            ],
            "application/vnd.google.colaboratory.intrinsic+json": {
              "type": "string"
            }
          },
          "metadata": {},
          "execution_count": 7
        }
      ]
    }
  ]
}